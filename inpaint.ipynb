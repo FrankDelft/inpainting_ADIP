{
 "cells": [
  {
   "cell_type": "code",
   "execution_count": 2,
   "metadata": {},
   "outputs": [
    {
     "name": "stdout",
     "output_type": "stream",
     "text": [
      "DIPlib -- a quantitative image analysis library\n",
      "Version 3.4.3 (Mar 21 2024)\n",
      "For more information see https://diplib.org\n"
     ]
    }
   ],
   "source": [
    "import diplib as dp\n",
    "import cv2\n",
    "import numpy as np\n",
    "import matplotlib.pyplot as plt\n",
    "from inpaint import in_paint_alg"
   ]
  },
  {
   "cell_type": "code",
   "execution_count": 60,
   "metadata": {},
   "outputs": [
    {
     "data": {
      "text/plain": [
       "<matplotlib.collections.PathCollection at 0x7e6c21d41b80>"
      ]
     },
     "execution_count": 60,
     "metadata": {},
     "output_type": "execute_result"
    },
    {
     "data": {
      "image/png": "[encoded data removed]",
      "text/plain": [
       "<Figure size 640x480 with 1 Axes>"
      ]
     },
     "metadata": {},
     "output_type": "display_data"
    }
   ],
   "source": [
    "\n",
    "# Test the function\n",
    "x_width = 20\n",
    "y_height = 20\n",
    "x1,y1,x2,y2=(5,5,15,15)\n",
    "\n",
    "# Points inside the rectangle\n",
    "target_region= np.array([[x, y] for x in range(x1+1, x2) for y in range(y1+1, y2)])\n",
    "\n",
    "# Points outside the rectangle, bounded by max_width and max_height\n",
    "source_region= np.array([[x, y] for x in range(x_width) for y in range(y_height)\n",
    "                           if  (x1 <= x <= x2 and y1 <= y <= y2)])\n",
    "\n",
    "image = np.zeros((256, 256), np.uint8) \n",
    "\n",
    "thickness = 1\n",
    "contour = cv2.rectangle(image.copy(),[x1,y1],[x2,y2], 255, thickness) \n",
    "\n",
    "# Creating rectangle\n",
    "thickness = -1\n",
    "target_region = cv2.rectangle(image.copy(),[x1,y1],[x2,y2], 255, thickness) \n",
    "thickness = -1\n",
    "source_region =np.array(cv2.bitwise_not(target_region))\n",
    "\n",
    "# Displaying the image  \n",
    "# plt.imshow(cv2.cvtColor(contour, cv2.COLOR_BGR2RGB))\n",
    "\n",
    "temp=np.where(np.array(np.array(contour)==255,dtype=int)==1)\n",
    "contour_indices = np.array(list(zip(temp[0],temp[1])))\n",
    "\n",
    "temp=np.where(np.array(np.array(source_region)==255,dtype=int)==1)\n",
    "source_indices = np.array(list(zip(temp[0],temp[1])))\n",
    "\n",
    "temp=np.where(np.array(np.array(target_region)==255,dtype=int)==1)\n",
    "target_indices = np.array(list(zip(temp[0],temp[1])))\n",
    "plt.scatter(contour_indices[:,0], contour_indices[:,1], c='r', s=1)"
   ]
  },
  {
   "cell_type": "code",
   "execution_count": 128,
   "metadata": {},
   "outputs": [
    {
     "name": "stdout",
     "output_type": "stream",
     "text": [
      "grad_dir -2.356194490192345\n",
      "normal -3.9269908169872414\n",
      "pos 5 5\n",
      "grad_x -765.0\n",
      "grad_y -765.0\n",
      " -765.0\n"
     ]
    },
    {
     "data": {
      "text/plain": [
       "(3.0150757595082496,\n",
       " 15.570710678118655,\n",
       " 3.0150757595082496,\n",
       " 15.570710678118655)"
      ]
     },
     "execution_count": 128,
     "metadata": {},
     "output_type": "execute_result"
    },
    {
     "data": {
      "image/png": "[encoded data removed]",
      "text/plain": [
       "<Figure size 640x480 with 1 Axes>"
      ]
     },
     "metadata": {},
     "output_type": "display_data"
    }
   ],
   "source": [
    "\n",
    "# Calculate the gradient in the x and y directions\n",
    "grad_x = cv2.Sobel(source_region, cv2.CV_64F, 1, 0, ksize=3)\n",
    "grad_y = cv2.Sobel(source_region, cv2.CV_64F, 0, 1, ksize=3)\n",
    "\n",
    "# Calculate the direction of the gradient\n",
    "gradient_direction = np.arctan2(grad_y, grad_x)\n",
    "\n",
    "normal = (gradient_direction - np.pi / 2)\n",
    "normal[contour_indices[13,0],contour_indices[13,1]]\n",
    "\n",
    "\n",
    "index=0\n",
    "print(\"grad_dir\",gradient_direction[contour_indices[index,0],contour_indices[index,1]])\n",
    "print(\"normal\",normal[contour_indices[index,0],contour_indices[index,1]])\n",
    "print(\"pos\",contour_indices[index,0],contour_indices[index,1])\n",
    "print(\"grad_x\",grad_x[contour_indices[index,0],contour_indices[index,1]])\n",
    "print(\"grad_y\",grad_y[contour_indices[index,0],contour_indices[index,1]])\n",
    "print(\"\",grad_y[contour_indices[index,0],contour_indices[index,1]])\n",
    "plt.scatter(contour_indices[:,0], contour_indices[:,1], c='r', s=1)\n",
    "plt.arrow(contour_indices[index,0], contour_indices[index,1], np.cos(normal[contour_indices[index,0],contour_indices[index,1]]), -np.sin(normal[contour_indices[index,0],contour_indices[index,1]]), head_width=1, head_length=1, fc='k', ec='k')\n",
    "plt.axis('equal')\n",
    "\n"
   ]
  },
  {
   "cell_type": "code",
   "execution_count": 133,
   "metadata": {},
   "outputs": [
    {
     "data": {
      "text/plain": [
       "array([[0., 0., 0., ..., 0., 0., 0.],\n",
       "       [0., 0., 0., ..., 0., 0., 0.],\n",
       "       [0., 0., 0., ..., 0., 0., 0.],\n",
       "       ...,\n",
       "       [0., 0., 0., ..., 0., 0., 0.],\n",
       "       [0., 0., 0., ..., 0., 0., 0.],\n",
       "       [0., 0., 0., ..., 0., 0., 0.]])"
      ]
     },
     "execution_count": 133,
     "metadata": {},
     "output_type": "execute_result"
    }
   ],
   "source": [
    "# Calculate the Laplacian of the image\n",
    "laplacian = cv2.Laplacian(source_region, cv2.CV_64F)\n",
    "\n",
    "# Find the zero-crossings of the Laplacian to get the isophote\n",
    "isophote = np.where(np.diff(np.sign(laplacian)))[0]\n",
    "\n",
    "# Now, 'isophote' contains the indices of the isophote in the image\n",
    "print(isophote)\n",
    "print(source_region[isophote])"
   ]
  }
 ],
 "metadata": {
  "kernelspec": {
   "display_name": "inpaint",
   "language": "python",
   "name": "python3"
  },
  "language_info": {
   "codemirror_mode": {
    "name": "ipython",
    "version": 3
   },
   "file_extension": ".py",
   "mimetype": "text/x-python",
   "name": "python",
   "nbconvert_exporter": "python",
   "pygments_lexer": "ipython3",
   "version": "3.12.3"
  }
 },
 "nbformat": 4,
 "nbformat_minor": 2
}
